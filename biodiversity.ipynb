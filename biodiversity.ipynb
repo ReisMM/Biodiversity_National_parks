{
 "cells": [
  {
   "cell_type": "markdown",
   "metadata": {},
   "source": [
    "# Biodiversity in National Parks"
   ]
  },
  {
   "cell_type": "code",
   "execution_count": 14,
   "metadata": {},
   "outputs": [
    {
     "name": "stdout",
     "output_type": "stream",
     "text": [
      "                     scientific_name                        common_names  \\\n",
      "0                 Vicia benghalensis  Purple Vetch, Reddish Tufted Vetch   \n",
      "1                     Neovison vison                       American Mink   \n",
      "2                  Prunus subcordata                        Klamath Plum   \n",
      "3               Abutilon theophrasti                          Velvetleaf   \n",
      "4           Githopsis specularioides                      Common Bluecup   \n",
      "5  Elymus virginicus var. virginicus                    Virginia Wildrye   \n",
      "6                   Spizella pusilla                       Field Sparrow   \n",
      "7                  Elymus multisetus      Big Squirreltail, Big Wild Rye   \n",
      "8             Lysimachia quadrifolia                 Whorled Loosestrife   \n",
      "9         Diphyscium cumberlandianum          Cumberland Diphyscium Moss   \n",
      "\n",
      "            category conservation_status                            park_name  \\\n",
      "0     Vascular Plant                 NaN  Great Smoky Mountains National Park   \n",
      "1             Mammal                 NaN  Great Smoky Mountains National Park   \n",
      "2     Vascular Plant                 NaN               Yosemite National Park   \n",
      "3     Vascular Plant                 NaN                  Bryce National Park   \n",
      "4     Vascular Plant                 NaN  Great Smoky Mountains National Park   \n",
      "5     Vascular Plant                 NaN               Yosemite National Park   \n",
      "6               Bird                 NaN            Yellowstone National Park   \n",
      "7     Vascular Plant                 NaN  Great Smoky Mountains National Park   \n",
      "8     Vascular Plant                 NaN               Yosemite National Park   \n",
      "9  Nonvascular Plant                 NaN            Yellowstone National Park   \n",
      "\n",
      "   observations  \n",
      "0            68  \n",
      "1            77  \n",
      "2           138  \n",
      "3            84  \n",
      "4            85  \n",
      "5           112  \n",
      "6           228  \n",
      "7            39  \n",
      "8           168  \n",
      "9           250  \n"
     ]
    }
   ],
   "source": [
    "import pandas as pd\n",
    "from pandas import Series, DataFrame\n",
    "import numpy as np\n",
    "import matplotlib.pyplot as plt\n",
    "import seaborn as sns\n",
    "\n",
    "obs = pd.read_csv(\"observations.csv\")\n",
    "species = pd.read_csv(\"species_info.csv\")\n",
    "\n",
    "df = obs[[\"scientific_name\", \"park_name\", \"observations\"]].merge(species[[\"category\", \"scientific_name\", \"common_names\", \"conservation_status\"]], on=\"scientific_name\", how=\"left\")\n",
    "\n",
    "df=df[[\"scientific_name\", \"common_names\", \"category\", \"conservation_status\", \"park_name\", \"observations\"]]\n",
    "\n",
    "print(df.head(10))"
   ]
  },
  {
   "cell_type": "code",
   "execution_count": 15,
   "metadata": {},
   "outputs": [
    {
     "name": "stdout",
     "output_type": "stream",
     "text": [
      "False    25601\n",
      "True        31\n",
      "dtype: int64\n"
     ]
    }
   ],
   "source": [
    "#Are there duplicates?\n",
    "duplicates=df.duplicated()\n",
    "print(duplicates.value_counts())\n",
    "\n",
    "# There are 31 duplicates - drop duplicates!\n",
    "df=df.drop_duplicates()"
   ]
  },
  {
   "cell_type": "markdown",
   "metadata": {},
   "source": [
    "## What are the categories, conservation status and parks?"
   ]
  },
  {
   "cell_type": "code",
   "execution_count": 3,
   "metadata": {},
   "outputs": [
    {
     "name": "stdout",
     "output_type": "stream",
     "text": [
      "['Vascular Plant', 'Mammal', 'Bird', 'Nonvascular Plant', 'Amphibian', 'Reptile', 'Fish']\n",
      "[nan, 'Species of Concern', 'Threatened', 'Endangered', 'In Recovery']\n",
      "['Great Smoky Mountains National Park', 'Yosemite National Park', 'Bryce National Park', 'Yellowstone National Park']\n"
     ]
    }
   ],
   "source": [
    "categories = []\n",
    "conservation_status = []\n",
    "parks = []\n",
    "\n",
    "for i in df[\"category\"]:\n",
    "    if i not in categories:\n",
    "        categories.append(i)\n",
    "\n",
    "for i in df[\"conservation_status\"]:\n",
    "    if i not in conservation_status:\n",
    "        conservation_status.append(i)\n",
    "\n",
    "for i in df[\"park_name\"]:\n",
    "    if i not in parks:\n",
    "        parks.append(i)\n",
    "        \n",
    "print(categories)\n",
    "print(conservation_status)\n",
    "print(parks)"
   ]
  },
  {
   "cell_type": "code",
   "execution_count": 4,
   "metadata": {},
   "outputs": [
    {
     "data": {
      "image/png": "[encoded data removed]",
      "text/plain": [
       "<Figure size 1080x144 with 1 Axes>"
      ]
     },
     "metadata": {
      "needs_background": "light"
     },
     "output_type": "display_data"
    },
    {
     "data": {
      "image/png": "[encoded data removed]",
      "text/plain": [
       "<Figure size 1080x144 with 1 Axes>"
      ]
     },
     "metadata": {
      "needs_background": "light"
     },
     "output_type": "display_data"
    },
    {
     "data": {
      "image/png": "[encoded data removed]",
      "text/plain": [
       "<Figure size 1080x144 with 1 Axes>"
      ]
     },
     "metadata": {
      "needs_background": "light"
     },
     "output_type": "display_data"
    }
   ],
   "source": [
    "plt.figure(figsize=(15,2))\n",
    "sns.countplot(x=\"category\", data=df)\n",
    "plt.title(\"Unique species per Categories\")\n",
    "plt.show()\n",
    "\n",
    "plt.figure(figsize=(15,2))\n",
    "sns.countplot(x=\"conservation_status\", data=df)\n",
    "plt.title(\"Unique species per Conservation status\")\n",
    "plt.show()\n",
    "\n",
    "plt.figure(figsize=(15,2))\n",
    "sns.countplot(x=\"park_name\", data=df)\n",
    "plt.title(\"Unique Species per Park \")\n",
    "plt.show()"
   ]
  },
  {
   "cell_type": "code",
   "execution_count": 5,
   "metadata": {},
   "outputs": [
    {
     "name": "stdout",
     "output_type": "stream",
     "text": [
      "Vascular Plant       19534\n",
      "Bird                  2361\n",
      "Nonvascular Plant     1332\n",
      "Mammal                1198\n",
      "Fish                   524\n",
      "Amphibian              328\n",
      "Reptile                324\n",
      "Name: category, dtype: int64\n"
     ]
    }
   ],
   "source": [
    "print(df[\"category\"].value_counts())"
   ]
  },
  {
   "cell_type": "code",
   "execution_count": 6,
   "metadata": {},
   "outputs": [
    {
     "name": "stdout",
     "output_type": "stream",
     "text": [
      "Species of Concern    732\n",
      "Endangered             80\n",
      "Threatened             44\n",
      "In Recovery            24\n",
      "Name: conservation_status, dtype: int64\n"
     ]
    }
   ],
   "source": [
    "print(df[\"conservation_status\"].value_counts())"
   ]
  },
  {
   "cell_type": "code",
   "execution_count": 7,
   "metadata": {},
   "outputs": [
    {
     "name": "stdout",
     "output_type": "stream",
     "text": [
      "Bryce National Park                    6406\n",
      "Yosemite National Park                 6402\n",
      "Yellowstone National Park              6397\n",
      "Great Smoky Mountains National Park    6396\n",
      "Name: park_name, dtype: int64\n"
     ]
    }
   ],
   "source": [
    "print(df[\"park_name\"].value_counts())"
   ]
  },
  {
   "cell_type": "markdown",
   "metadata": {},
   "source": [
    "**Resume:**\n",
    "- There are 5 categories: 19534 unique Vascular Plants, 2361 unique Birds, 1332 unique Nonvascular Plants, 1198 unique Mammals, 524 unique Fishes, 328 unique Anphibians and 324 unique Reptiles.\n",
    "- There are 4 conservation status: 732 unique species of concern, 80 unique species endangered, 44 unique species threatened and 24 unique species in recovery.\n",
    "- The data was collected from 4 National Parks. There are 6406 unique species in Bryce National Park, 6402 unique species in Yosemite National Park, 6397 unique species in Yellowstone National Park and 6396 unique species in Great Smoky Mountains National Park"
   ]
  },
  {
   "cell_type": "markdown",
   "metadata": {},
   "source": [
    "## Total number of individuals per category, conservation status and park"
   ]
  },
  {
   "cell_type": "code",
   "execution_count": 8,
   "metadata": {},
   "outputs": [
    {
     "name": "stdout",
     "output_type": "stream",
     "text": [
      "            category  observations\n",
      "0          Amphibian         45068\n",
      "1               Bird        331606\n",
      "2               Fish         72901\n",
      "3             Mammal        162608\n",
      "4  Nonvascular Plant        190653\n",
      "5            Reptile         45822\n",
      "6     Vascular Plant       2791714\n"
     ]
    }
   ],
   "source": [
    "cat_total = df.groupby(\"category\").observations.sum().reset_index()\n",
    "print(cat_total.head(10))"
   ]
  },
  {
   "cell_type": "code",
   "execution_count": 9,
   "metadata": {},
   "outputs": [
    {
     "name": "stdout",
     "output_type": "stream",
     "text": [
      "  conservation_status  observations\n",
      "0          Endangered          3513\n",
      "1         In Recovery          2107\n",
      "2  Species of Concern         93962\n",
      "3          Threatened          3339\n"
     ]
    }
   ],
   "source": [
    "conserv_total = df.groupby(\"conservation_status\").observations.sum().reset_index()\n",
    "print(conserv_total.head())"
   ]
  },
  {
   "cell_type": "code",
   "execution_count": 10,
   "metadata": {},
   "outputs": [
    {
     "name": "stdout",
     "output_type": "stream",
     "text": [
      "                             park_name  observations\n",
      "0                  Bryce National Park        633043\n",
      "1  Great Smoky Mountains National Park        473979\n",
      "2            Yellowstone National Park       1584890\n",
      "3               Yosemite National Park        948460\n"
     ]
    }
   ],
   "source": [
    "parks_total = df.groupby(\"park_name\").observations.sum().reset_index()\n",
    "print(parks_total.head())"
   ]
  },
  {
   "cell_type": "markdown",
   "metadata": {},
   "source": [
    "**Resume:**\n",
    "- Category: The most populated category is \"Vascular Plant\" and the less populated is \"Amphibian\"\n",
    "- Conservation status: Most species are \"Species of concern\"\n",
    "- Parks: The park with more individuals is \"Yellowstone National Park\"."
   ]
  },
  {
   "cell_type": "markdown",
   "metadata": {},
   "source": [
    "## Categories and conservation status per park"
   ]
  },
  {
   "cell_type": "code",
   "execution_count": 30,
   "metadata": {
    "scrolled": true
   },
   "outputs": [
    {
     "name": "stdout",
     "output_type": "stream",
     "text": [
      "                              park_name           category    value\n",
      "0                   Bryce National Park          Amphibian     7542\n",
      "1   Great Smoky Mountains National Park          Amphibian     5876\n",
      "2             Yellowstone National Park          Amphibian    19937\n",
      "3                Yosemite National Park          Amphibian    11713\n",
      "4                   Bryce National Park               Bird    58590\n",
      "5   Great Smoky Mountains National Park               Bird    42869\n",
      "6             Yellowstone National Park               Bird   143535\n",
      "7                Yosemite National Park               Bird    86612\n",
      "8                   Bryce National Park               Fish    12823\n",
      "9   Great Smoky Mountains National Park               Fish     9482\n",
      "10            Yellowstone National Park               Fish    31459\n",
      "11               Yosemite National Park               Fish    19137\n",
      "12                  Bryce National Park             Mammal    28830\n",
      "13  Great Smoky Mountains National Park             Mammal    21056\n",
      "14            Yellowstone National Park             Mammal    70189\n",
      "15               Yosemite National Park             Mammal    42533\n",
      "16                  Bryce National Park  Nonvascular Plant    32992\n",
      "17  Great Smoky Mountains National Park  Nonvascular Plant    24857\n",
      "18            Yellowstone National Park  Nonvascular Plant    83021\n",
      "19               Yosemite National Park  Nonvascular Plant    49783\n",
      "20                  Bryce National Park            Reptile     8141\n",
      "21  Great Smoky Mountains National Park            Reptile     5841\n",
      "22            Yellowstone National Park            Reptile    20061\n",
      "23               Yosemite National Park            Reptile    11779\n",
      "24                  Bryce National Park     Vascular Plant   484125\n",
      "25  Great Smoky Mountains National Park     Vascular Plant   363998\n",
      "26            Yellowstone National Park     Vascular Plant  1216688\n",
      "27               Yosemite National Park     Vascular Plant   726903\n"
     ]
    }
   ],
   "source": [
    "parks_cat_pivot= df.pivot_table(columns=\"category\", index=\"park_name\", values=\"observations\", aggfunc=\"sum\").reset_index().melt(id_vars=[\"park_name\"])\n",
    "\n",
    "print(parks_cat_pivot.head(30))"
   ]
  },
  {
   "cell_type": "code",
   "execution_count": 32,
   "metadata": {},
   "outputs": [
    {
     "name": "stdout",
     "output_type": "stream",
     "text": [
      "                              park_name conservation_status  value\n",
      "0                   Bryce National Park          Endangered    619\n",
      "1   Great Smoky Mountains National Park          Endangered    393\n",
      "2             Yellowstone National Park          Endangered   1558\n",
      "3                Yosemite National Park          Endangered    943\n",
      "4                   Bryce National Park         In Recovery    388\n",
      "5   Great Smoky Mountains National Park         In Recovery    248\n",
      "6             Yellowstone National Park         In Recovery    889\n",
      "7                Yosemite National Park         In Recovery    582\n",
      "8                   Bryce National Park  Species of Concern  17011\n",
      "9   Great Smoky Mountains National Park  Species of Concern  11735\n",
      "10            Yellowstone National Park  Species of Concern  40677\n",
      "11               Yosemite National Park  Species of Concern  24539\n",
      "12                  Bryce National Park          Threatened    591\n",
      "13  Great Smoky Mountains National Park          Threatened    440\n",
      "14            Yellowstone National Park          Threatened   1459\n",
      "15               Yosemite National Park          Threatened    849\n"
     ]
    }
   ],
   "source": [
    "parks_cons_pivot= df.pivot_table(columns=\"conservation_status\", index=\"park_name\", values=\"observations\", aggfunc=\"sum\").reset_index().melt(id_vars=[\"park_name\"])\n",
    "\n",
    "print(parks_cons_pivot.head(27))"
   ]
  },
  {
   "cell_type": "markdown",
   "metadata": {},
   "source": [
    "**Resume:** \n",
    "- The park with more endangered species is the Yellowstone National Park, but it is also the park with more individuals in total. In relative terms, the park with more endangered species is the Yosemite National Park in which 0.1% of the individuals are endangered species."
   ]
  },
  {
   "cell_type": "markdown",
   "metadata": {},
   "source": [
    "## What are the species more likely to be endangered?"
   ]
  },
  {
   "cell_type": "code",
   "execution_count": 35,
   "metadata": {},
   "outputs": [
    {
     "name": "stdout",
     "output_type": "stream",
     "text": [
      "             category conservation_status    value\n",
      "0           Amphibian          Endangered    144.0\n",
      "1                Bird          Endangered    574.0\n",
      "2                Fish          Endangered    455.0\n",
      "3              Mammal          Endangered   2178.0\n",
      "4   Nonvascular Plant          Endangered      NaN\n",
      "5             Reptile          Endangered      NaN\n",
      "6      Vascular Plant          Endangered    162.0\n",
      "7           Amphibian         In Recovery      NaN\n",
      "8                Bird         In Recovery   1392.0\n",
      "9                Fish         In Recovery      NaN\n",
      "10             Mammal         In Recovery    715.0\n",
      "11  Nonvascular Plant         In Recovery      NaN\n",
      "12            Reptile         In Recovery      NaN\n",
      "13     Vascular Plant         In Recovery      NaN\n",
      "14          Amphibian  Species of Concern   2044.0\n",
      "15               Bird  Species of Concern  40758.0\n",
      "16               Fish  Species of Concern   2109.0\n",
      "17             Mammal  Species of Concern  21675.0\n",
      "18  Nonvascular Plant  Species of Concern   2705.0\n",
      "19            Reptile  Species of Concern   2536.0\n",
      "20     Vascular Plant  Species of Concern  22135.0\n",
      "21          Amphibian          Threatened    564.0\n",
      "22               Bird          Threatened      NaN\n",
      "23               Fish          Threatened   1645.0\n",
      "24             Mammal          Threatened    578.0\n",
      "25  Nonvascular Plant          Threatened      NaN\n",
      "26            Reptile          Threatened      NaN\n",
      "27     Vascular Plant          Threatened    552.0\n"
     ]
    }
   ],
   "source": [
    "cat_cons_pivot= df.pivot_table(columns=\"conservation_status\", index=\"category\", values=\"observations\", aggfunc=\"sum\").reset_index().melt(id_vars=[\"category\"])\n",
    "\n",
    "print(cat_cons_pivot.head(30))"
   ]
  },
  {
   "cell_type": "markdown",
   "metadata": {},
   "source": [
    "**Resume:** \n",
    "- Mammals and birds are more likely to be endangered."
   ]
  },
  {
   "cell_type": "code",
   "execution_count": null,
   "metadata": {},
   "outputs": [],
   "source": []
  }
 ],
 "metadata": {
  "kernelspec": {
   "display_name": "Python 3 (ipykernel)",
   "language": "python",
   "name": "python3"
  },
  "language_info": {
   "codemirror_mode": {
    "name": "ipython",
    "version": 3
   },
   "file_extension": ".py",
   "mimetype": "text/x-python",
   "name": "python",
   "nbconvert_exporter": "python",
   "pygments_lexer": "ipython3",
   "version": "3.9.12"
  }
 },
 "nbformat": 4,
 "nbformat_minor": 4
}
